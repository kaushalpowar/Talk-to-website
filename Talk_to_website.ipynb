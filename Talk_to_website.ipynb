{
  "nbformat": 4,
  "nbformat_minor": 0,
  "metadata": {
    "colab": {
      "provenance": [],
      "gpuType": "T4"
    },
    "kernelspec": {
      "name": "python3",
      "display_name": "Python 3"
    },
    "language_info": {
      "name": "python"
    },
    "accelerator": "GPU"
  },
  "cells": [
    {
      "cell_type": "code",
      "source": [
        "!pip install langchain openai unstructured pdf2image tiktoken apify-client pinecone-client"
      ],
      "metadata": {
        "id": "6ihEDrbCEDjb"
      },
      "execution_count": null,
      "outputs": []
    },
    {
      "cell_type": "code",
      "execution_count": 63,
      "metadata": {
        "id": "ctxG7SWCD_4y"
      },
      "outputs": [],
      "source": [
        "from langchain.document_loaders.base import Document\n",
        "from langchain.indexes import VectorstoreIndexCreator\n",
        "from langchain.utilities import ApifyWrapper\n",
        "from langchain.vectorstores import Pinecone\n",
        "import os\n",
        "from langchain.chains import RetrievalQA\n",
        "import pinecone\n",
        "import openai\n",
        "from langchain.embeddings.openai import OpenAIEmbeddings\n",
        "from langchain.vectorstores import Pinecone\n",
        "from langchain.text_splitter import RecursiveCharacterTextSplitter\n",
        "from langchain.llms import OpenAI\n",
        "from langchain.chains.question_answering import load_qa_chain\n",
        "from langchain.chat_models import ChatOpenAI\n",
        "from langchain.chains import ConversationalRetrievalChain\n",
        "\n",
        "from langchain.memory import ConversationBufferMemory\n",
        "from langchain.chat_models import ChatOpenAI\n",
        "\n"
      ]
    },
    {
      "cell_type": "code",
      "source": [
        "def split_docs(documents, chunk_size=1000, chunk_overlap=20):\n",
        "    \"\"\"\n",
        "    Split the given list of documents into chunks based on the specified chunk size and overlap.\n",
        "\n",
        "    Args:\n",
        "        documents (list): List of documents to be split.\n",
        "        chunk_size (int): Size of each chunk (default: 1000).\n",
        "        chunk_overlap (int): Overlap between consecutive chunks (default: 20).\n",
        "\n",
        "    Returns:\n",
        "        list: List of split documents.\n",
        "    \"\"\"\n",
        "    text_splitter = RecursiveCharacterTextSplitter(chunk_size=chunk_size, chunk_overlap=chunk_overlap)\n",
        "    docs = text_splitter.split_documents(documents)\n",
        "    return docs\n"
      ],
      "metadata": {
        "id": "I12CShd9RNvJ"
      },
      "execution_count": 4,
      "outputs": []
    },
    {
      "cell_type": "code",
      "source": [
        "import os\n",
        "os.environ[\"OPENAI_API_KEY\"] = \"sk-XYNkKwsIETv\"\n",
        "os.environ[\"APIFY_API_TOKEN\"] = \"apify_api\""
      ],
      "metadata": {
        "id": "LKGWsQpyEH64"
      },
      "execution_count": 7,
      "outputs": []
    },
    {
      "cell_type": "code",
      "source": [
        "apify = ApifyWrapper()\n",
        "embeddings = OpenAIEmbeddings(model=\"gpt-3.5-turbo\")\n",
        "\n",
        "\n",
        "pinecone.init(\n",
        "    api_key=\"0b596385-53\",\n",
        "    environment=\"us-east-1-aws\"\n",
        ")\n",
        "index_name = \"new\"\n"
      ],
      "metadata": {
        "id": "-_tf_HUTEKis"
      },
      "execution_count": 8,
      "outputs": []
    },
    {
      "cell_type": "code",
      "source": [
        "loader = apify.call_actor(\n",
        "    actor_id=\"apify/website-content-crawler\",\n",
        "    run_input={\"startUrls\": [{\"url\": \"https://writtenbykaushal.hashnode.dev/\"}]},\n",
        "    dataset_mapping_function=lambda item: Document(\n",
        "        page_content=item[\"text\"] or \"\", metadata={\"source\": item[\"url\"]}\n",
        "    ),\n",
        ")"
      ],
      "metadata": {
        "id": "tG4d2CFYEM5Z"
      },
      "execution_count": null,
      "outputs": []
    },
    {
      "cell_type": "code",
      "source": [
        "# Load the data from the loader\n",
        "data = loader.load()\n"
      ],
      "metadata": {
        "id": "vw6SrAOzEOn9"
      },
      "execution_count": null,
      "outputs": []
    },
    {
      "cell_type": "code",
      "source": [
        "docs = split_docs(data)"
      ],
      "metadata": {
        "id": "l-5y32rjHqZT"
      },
      "execution_count": null,
      "outputs": []
    },
    {
      "cell_type": "code",
      "source": [
        "#This like is used for creating embedding of our data. We have to use it only once at beginning.\n",
        "#index = Pinecone.from_documents(docs, embeddings, index_name=index_name)\n"
      ],
      "metadata": {
        "id": "36BQOfg2Ehfy"
      },
      "execution_count": null,
      "outputs": []
    },
    {
      "cell_type": "code",
      "source": [
        "# Extract the URLs\n",
        "scraped_urls = [doc.metadata[\"source\"] for doc in data]\n",
        "\n",
        "print(scraped_urls)"
      ],
      "metadata": {
        "colab": {
          "base_uri": "https://localhost:8080/"
        },
        "id": "FBCl97inETE8",
        "outputId": "ea695030-28a4-4eda-be9e-3bd55c1de8c9"
      },
      "execution_count": null,
      "outputs": [
        {
          "output_type": "stream",
          "name": "stdout",
          "text": [
            "['https://writtenbykaushal.hashnode.dev/', 'https://writtenbykaushal.hashnode.dev/rss.xml', 'https://writtenbykaushal.hashnode.dev/about-me', 'https://writtenbykaushal.hashnode.dev/newsletter', 'https://writtenbykaushal.hashnode.dev/from-fomo-to-lol-exploring-the-wonders-of-llms', 'https://writtenbykaushal.hashnode.dev/vector-databases-the-magic-potion-behind-chatgpt-and-jokes', 'https://writtenbykaushal.hashnode.dev/the-future-of-chatbots-building-a-state-of-the-art-stateless-chatbot-with-openais-gpt-and-streamlit', 'https://writtenbykaushal.hashnode.dev/breaking-down-the-misconceptions-the-truth-about-chat-gpts-understanding-of-language', 'https://writtenbykaushal.hashnode.dev/how-to-extract-features-from-the-text-for-sentiment-analysis-a-beginners-guide-to-making-sense-of-text-data-to-computer', 'https://writtenbykaushal.hashnode.dev/what-is-dirty-data-what-are-its-types-9a316aab0ef3', 'https://writtenbykaushal.hashnode.dev/from-error-messages-to-life-lessons-a-journey-in-computer-science-and-ai-student', 'https://writtenbykaushal.hashnode.dev/will-google-bard-reduce-webpage-clicks', 'https://writtenbykaushal.hashnode.dev/data-exploration-how-to-select-the-right-data-efa74721f265', 'https://writtenbykaushal.hashnode.dev/a-picture-is-worth-a-thousand-words-word-clouds-for-data-representation', 'https://writtenbykaushal.hashnode.dev/data-discovery-through-exploratory-data-analysis', 'https://writtenbykaushal.hashnode.dev/mastering-the-basics-of-database-management-systems', 'https://writtenbykaushal.hashnode.dev/archive', 'https://writtenbykaushal.hashnode.dev/tag/data-science', 'https://writtenbykaushal.hashnode.dev/tag/artificial-intelligence', 'https://writtenbykaushal.hashnode.dev/tag/machine-learning', 'https://writtenbykaushal.hashnode.dev/tag/generative-ai', 'https://writtenbykaushal.hashnode.dev/tag/llm', 'https://writtenbykaushal.hashnode.dev/tag/databases', 'https://writtenbykaushal.hashnode.dev/series/nlp', 'https://writtenbykaushal.hashnode.dev/tag/openai', 'https://writtenbykaushal.hashnode.dev/tag/python', 'https://writtenbykaushal.hashnode.dev/tag/chatbot', 'https://writtenbykaushal.hashnode.dev/tag/nlp', 'https://writtenbykaushal.hashnode.dev/tag/streamlit', 'https://writtenbykaushal.hashnode.dev/tag/chatgpt', 'https://writtenbykaushal.hashnode.dev/tag/sentiment-analysis', 'https://writtenbykaushal.hashnode.dev/tag/natural-language-processing', 'https://writtenbykaushal.hashnode.dev/tag/data', 'https://writtenbykaushal.hashnode.dev/tag/simple', 'https://writtenbykaushal.hashnode.dev/tag/computer-science', 'https://writtenbykaushal.hashnode.dev/tag/coding', 'https://writtenbykaushal.hashnode.dev/tag/learning-journey', 'https://writtenbykaushal.hashnode.dev/tag/personal-development', 'https://writtenbykaushal.hashnode.dev/tag/google', 'https://writtenbykaushal.hashnode.dev/tag/web', 'https://writtenbykaushal.hashnode.dev/tag/ai', 'https://writtenbykaushal.hashnode.dev/tag/dataanalytics', 'https://writtenbykaushal.hashnode.dev/tag/data-analysis', 'https://writtenbykaushal.hashnode.dev/tag/sql', 'https://writtenbykaushal.hashnode.dev/the-art-and-science-of-neural-networks-a-guide-to-understanding-the-inner-workings', 'https://writtenbykaushal.hashnode.dev/what-is-the-scope-of-work-in-data-analysis', 'https://writtenbykaushal.hashnode.dev/how-to-deal-with-data-errors-or-not-having-enough-data-476245c33c38', 'https://writtenbykaushal.hashnode.dev/gpt-3-trend-analysis', 'https://writtenbykaushal.hashnode.dev/what-is-metadata-what-are-its-types-96a3ef10fed5', 'https://writtenbykaushal.hashnode.dev/the-essentials-of-knn-algorithm-understanding-with-a-concrete-example', 'https://writtenbykaushal.hashnode.dev/steps-that-data-analysts-use-to-make-data-driven-decision-making-19219e4e7b89', 'https://writtenbykaushal.hashnode.dev/a-step-by-step-guide-to-linear-regression-for-beginners', 'https://writtenbykaushal.hashnode.dev/a-beginners-guide-to-data-analysis-and-its-benefits', 'https://writtenbykaushal.hashnode.dev/the-most-beloved-linear-regression-project-house-price-prediction-eeabbce21dd5', 'https://writtenbykaushal.hashnode.dev/what-is-factor-analysis-in-data-science-e207dfafe402', 'https://writtenbykaushal.hashnode.dev/google-data-analytics-specialization-capstone-project-sample', 'https://writtenbykaushal.hashnode.dev/tag/project-management', 'https://writtenbykaushal.hashnode.dev/the-surprising-importance-of-mathematics-in-artificial-intelligence-def196bcbe8e', 'https://writtenbykaushal.hashnode.dev/tag/openapi', 'https://writtenbykaushal.hashnode.dev/tag/metadata', 'https://writtenbykaushal.hashnode.dev/tag/algorithms', 'https://writtenbykaushal.hashnode.dev/tag/classification', 'https://writtenbykaushal.hashnode.dev/tag/python3', 'https://writtenbykaushal.hashnode.dev/tag/programming-blogs', 'https://writtenbykaushal.hashnode.dev/tag/r', 'https://writtenbykaushal.hashnode.dev/tag/linearregression']\n"
          ]
        }
      ]
    },
    {
      "cell_type": "code",
      "source": [
        "#Load saved embeddings\n",
        "index = Pinecone.from_existing_index(index_name, embeddings) # This lines gets saved embeddings\n"
      ],
      "metadata": {
        "id": "HQL7Ba6FGQ0R"
      },
      "execution_count": 52,
      "outputs": []
    },
    {
      "cell_type": "code",
      "source": [
        "from langchain.memory import ConversationBufferMemory\n",
        "memory = ConversationBufferMemory(memory_key=\"chat_history\", return_messages=True)"
      ],
      "metadata": {
        "id": "ljN3qWv-pHrJ"
      },
      "execution_count": 64,
      "outputs": []
    },
    {
      "cell_type": "code",
      "source": [
        "qa = ConversationalRetrievalChain.from_llm(OpenAI(temperature=0), index.as_retriever(), return_source_documents=True)"
      ],
      "metadata": {
        "id": "pOVumwkNpMXF"
      },
      "execution_count": 70,
      "outputs": []
    },
    {
      "cell_type": "code",
      "source": [
        "chat_history = []\n",
        "query = \"Who wrote these blogs?\"\n",
        "result = qa({\"question\": query, \"chat_history\": chat_history})"
      ],
      "metadata": {
        "id": "PFF8l-q6pggr"
      },
      "execution_count": 71,
      "outputs": []
    },
    {
      "cell_type": "code",
      "source": [
        "result['answer']"
      ],
      "metadata": {
        "colab": {
          "base_uri": "https://localhost:8080/",
          "height": 35
        },
        "id": "OalxIkH1qKpC",
        "outputId": "057fdb18-7a93-4ce8-a4a8-0c4874e29c04"
      },
      "execution_count": 73,
      "outputs": [
        {
          "output_type": "execute_result",
          "data": {
            "text/plain": [
              "' The blogs were written by Kaushal.'"
            ],
            "application/vnd.google.colaboratory.intrinsic+json": {
              "type": "string"
            }
          },
          "metadata": {},
          "execution_count": 73
        }
      ]
    },
    {
      "cell_type": "code",
      "source": [
        "result['source_documents'][0]\n"
      ],
      "metadata": {
        "colab": {
          "base_uri": "https://localhost:8080/"
        },
        "id": "sn_s7b2tpzXb",
        "outputId": "634a8fe9-9c86-4b65-abda-335585007f7e"
      },
      "execution_count": 72,
      "outputs": [
        {
          "output_type": "execute_result",
          "data": {
            "text/plain": [
              "Document(page_content='Tag\\nProgramming Blogs\\n#programming-blogs\\nMore content\\nRead more stories on Hashnode', metadata={'source': 'https://writtenbykaushal.hashnode.dev/tag/programming-blogs'})"
            ]
          },
          "metadata": {},
          "execution_count": 72
        }
      ]
    },
    {
      "cell_type": "code",
      "source": [],
      "metadata": {
        "id": "bFLo_4kngAVx"
      },
      "execution_count": null,
      "outputs": []
    }
  ]
}